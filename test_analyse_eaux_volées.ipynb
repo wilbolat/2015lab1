{
 "cells": [
  {
   "cell_type": "markdown",
   "metadata": {},
   "source": [
    "#Lab 1. An Introduction to Pandas and Python"
   ]
  },
  {
   "cell_type": "code",
   "execution_count": 1,
   "metadata": {
    "collapsed": true
   },
   "outputs": [],
   "source": [
    "import ssl\n",
    "from functools import wraps\n",
    "def sslwrap(func):\n",
    "    @wraps(func)\n",
    "    def bar(*args, **kw):\n",
    "        kw['ssl_version'] = ssl.PROTOCOL_TLSv1\n",
    "        return func(*args, **kw)\n",
    "    return bar\n",
    "\n",
    "ssl.wrap_socket = sslwrap(ssl.wrap_socket)"
   ]
  },
  {
   "cell_type": "code",
   "execution_count": 2,
   "metadata": {
    "collapsed": false,
    "scrolled": false
   },
   "outputs": [],
   "source": [
    "# The %... is an iPython thing, and is not part of the Python language.\n",
    "# In this case we're just telling the plotting library to draw things on\n",
    "# the notebook, instead of on a separate window.\n",
    "%matplotlib inline \n",
    "#this line above prepares IPython notebook for working with matplotlib\n",
    "\n",
    "# See all the \"as ...\" contructs? They're just aliasing the package names.\n",
    "# That way we can call methods like plt.plot() instead of matplotlib.pyplot.plot().\n",
    "import urllib2\n",
    "import math\n",
    "import numpy as np # imports a fast numerical programming library\n",
    "import scipy as sp #imports stats functions, amongst other things\n",
    "import matplotlib as mpl # this actually imports matplotlib\n",
    "import matplotlib.cm as cm #allows us easy access to colormaps\n",
    "import matplotlib.pyplot as plt #sets up plotting under plt\n",
    "import pandas as pd #lets us handle data as dataframes\n",
    "#sets up pandas table display\n",
    "pd.set_option('display.width', 500)\n",
    "pd.set_option('display.max_columns', 100)\n",
    "pd.set_option('display.notebook_repr_html', True)\n",
    "import seaborn as sns #sets up styles and gives us more plotting options\n",
    "\n",
    "#reload (sys)\n",
    "#sys.setdefaultencoding('utf8')"
   ]
  },
  {
   "cell_type": "markdown",
   "metadata": {},
   "source": [
    "import requests\n",
    "r = requests.get('https://www.cehq.gouv.qc.ca/depot/historique_donnees/fichier/021407_Q.txt')\n",
    "r"
   ]
  },
  {
   "cell_type": "code",
   "execution_count": 3,
   "metadata": {
    "collapsed": false,
    "scrolled": true
   },
   "outputs": [
    {
     "ename": "URLError",
     "evalue": "<urlopen error EOF occurred in violation of protocol (_ssl.c:590)>",
     "output_type": "error",
     "traceback": [
      "\u001b[1;31m---------------------------------------------------------------------------\u001b[0m",
      "\u001b[1;31mURLError\u001b[0m                                  Traceback (most recent call last)",
      "\u001b[1;32m<ipython-input-3-ff6ccd895f88>\u001b[0m in \u001b[0;36m<module>\u001b[1;34m()\u001b[0m\n\u001b[0;32m      1\u001b[0m \u001b[0murl\u001b[0m \u001b[1;33m=\u001b[0m \u001b[1;34m'https://www.cehq.gouv.qc.ca/depot/historique_donnees/fichier/021407_Q.txt'\u001b[0m\u001b[1;33m\u001b[0m\u001b[0m\n\u001b[0;32m      2\u001b[0m \u001b[1;33m\u001b[0m\u001b[0m\n\u001b[1;32m----> 3\u001b[1;33m \u001b[0msite\u001b[0m \u001b[1;33m=\u001b[0m \u001b[0murllib2\u001b[0m\u001b[1;33m.\u001b[0m\u001b[0murlopen\u001b[0m\u001b[1;33m(\u001b[0m\u001b[0murl\u001b[0m\u001b[1;33m)\u001b[0m\u001b[1;33m\u001b[0m\u001b[0m\n\u001b[0m",
      "\u001b[1;32mC:\\Anaconda\\lib\\urllib2.pyc\u001b[0m in \u001b[0;36murlopen\u001b[1;34m(url, data, timeout, cafile, capath, cadefault, context)\u001b[0m\n\u001b[0;32m    152\u001b[0m     \u001b[1;32melse\u001b[0m\u001b[1;33m:\u001b[0m\u001b[1;33m\u001b[0m\u001b[0m\n\u001b[0;32m    153\u001b[0m         \u001b[0mopener\u001b[0m \u001b[1;33m=\u001b[0m \u001b[0m_opener\u001b[0m\u001b[1;33m\u001b[0m\u001b[0m\n\u001b[1;32m--> 154\u001b[1;33m     \u001b[1;32mreturn\u001b[0m \u001b[0mopener\u001b[0m\u001b[1;33m.\u001b[0m\u001b[0mopen\u001b[0m\u001b[1;33m(\u001b[0m\u001b[0murl\u001b[0m\u001b[1;33m,\u001b[0m \u001b[0mdata\u001b[0m\u001b[1;33m,\u001b[0m \u001b[0mtimeout\u001b[0m\u001b[1;33m)\u001b[0m\u001b[1;33m\u001b[0m\u001b[0m\n\u001b[0m\u001b[0;32m    155\u001b[0m \u001b[1;33m\u001b[0m\u001b[0m\n\u001b[0;32m    156\u001b[0m \u001b[1;32mdef\u001b[0m \u001b[0minstall_opener\u001b[0m\u001b[1;33m(\u001b[0m\u001b[0mopener\u001b[0m\u001b[1;33m)\u001b[0m\u001b[1;33m:\u001b[0m\u001b[1;33m\u001b[0m\u001b[0m\n",
      "\u001b[1;32mC:\\Anaconda\\lib\\urllib2.pyc\u001b[0m in \u001b[0;36mopen\u001b[1;34m(self, fullurl, data, timeout)\u001b[0m\n\u001b[0;32m    429\u001b[0m             \u001b[0mreq\u001b[0m \u001b[1;33m=\u001b[0m \u001b[0mmeth\u001b[0m\u001b[1;33m(\u001b[0m\u001b[0mreq\u001b[0m\u001b[1;33m)\u001b[0m\u001b[1;33m\u001b[0m\u001b[0m\n\u001b[0;32m    430\u001b[0m \u001b[1;33m\u001b[0m\u001b[0m\n\u001b[1;32m--> 431\u001b[1;33m         \u001b[0mresponse\u001b[0m \u001b[1;33m=\u001b[0m \u001b[0mself\u001b[0m\u001b[1;33m.\u001b[0m\u001b[0m_open\u001b[0m\u001b[1;33m(\u001b[0m\u001b[0mreq\u001b[0m\u001b[1;33m,\u001b[0m \u001b[0mdata\u001b[0m\u001b[1;33m)\u001b[0m\u001b[1;33m\u001b[0m\u001b[0m\n\u001b[0m\u001b[0;32m    432\u001b[0m \u001b[1;33m\u001b[0m\u001b[0m\n\u001b[0;32m    433\u001b[0m         \u001b[1;31m# post-process response\u001b[0m\u001b[1;33m\u001b[0m\u001b[1;33m\u001b[0m\u001b[0m\n",
      "\u001b[1;32mC:\\Anaconda\\lib\\urllib2.pyc\u001b[0m in \u001b[0;36m_open\u001b[1;34m(self, req, data)\u001b[0m\n\u001b[0;32m    447\u001b[0m         \u001b[0mprotocol\u001b[0m \u001b[1;33m=\u001b[0m \u001b[0mreq\u001b[0m\u001b[1;33m.\u001b[0m\u001b[0mget_type\u001b[0m\u001b[1;33m(\u001b[0m\u001b[1;33m)\u001b[0m\u001b[1;33m\u001b[0m\u001b[0m\n\u001b[0;32m    448\u001b[0m         result = self._call_chain(self.handle_open, protocol, protocol +\n\u001b[1;32m--> 449\u001b[1;33m                                   '_open', req)\n\u001b[0m\u001b[0;32m    450\u001b[0m         \u001b[1;32mif\u001b[0m \u001b[0mresult\u001b[0m\u001b[1;33m:\u001b[0m\u001b[1;33m\u001b[0m\u001b[0m\n\u001b[0;32m    451\u001b[0m             \u001b[1;32mreturn\u001b[0m \u001b[0mresult\u001b[0m\u001b[1;33m\u001b[0m\u001b[0m\n",
      "\u001b[1;32mC:\\Anaconda\\lib\\urllib2.pyc\u001b[0m in \u001b[0;36m_call_chain\u001b[1;34m(self, chain, kind, meth_name, *args)\u001b[0m\n\u001b[0;32m    407\u001b[0m             \u001b[0mfunc\u001b[0m \u001b[1;33m=\u001b[0m \u001b[0mgetattr\u001b[0m\u001b[1;33m(\u001b[0m\u001b[0mhandler\u001b[0m\u001b[1;33m,\u001b[0m \u001b[0mmeth_name\u001b[0m\u001b[1;33m)\u001b[0m\u001b[1;33m\u001b[0m\u001b[0m\n\u001b[0;32m    408\u001b[0m \u001b[1;33m\u001b[0m\u001b[0m\n\u001b[1;32m--> 409\u001b[1;33m             \u001b[0mresult\u001b[0m \u001b[1;33m=\u001b[0m \u001b[0mfunc\u001b[0m\u001b[1;33m(\u001b[0m\u001b[1;33m*\u001b[0m\u001b[0margs\u001b[0m\u001b[1;33m)\u001b[0m\u001b[1;33m\u001b[0m\u001b[0m\n\u001b[0m\u001b[0;32m    410\u001b[0m             \u001b[1;32mif\u001b[0m \u001b[0mresult\u001b[0m \u001b[1;32mis\u001b[0m \u001b[1;32mnot\u001b[0m \u001b[0mNone\u001b[0m\u001b[1;33m:\u001b[0m\u001b[1;33m\u001b[0m\u001b[0m\n\u001b[0;32m    411\u001b[0m                 \u001b[1;32mreturn\u001b[0m \u001b[0mresult\u001b[0m\u001b[1;33m\u001b[0m\u001b[0m\n",
      "\u001b[1;32mC:\\Anaconda\\lib\\urllib2.pyc\u001b[0m in \u001b[0;36mhttps_open\u001b[1;34m(self, req)\u001b[0m\n\u001b[0;32m   1238\u001b[0m         \u001b[1;32mdef\u001b[0m \u001b[0mhttps_open\u001b[0m\u001b[1;33m(\u001b[0m\u001b[0mself\u001b[0m\u001b[1;33m,\u001b[0m \u001b[0mreq\u001b[0m\u001b[1;33m)\u001b[0m\u001b[1;33m:\u001b[0m\u001b[1;33m\u001b[0m\u001b[0m\n\u001b[0;32m   1239\u001b[0m             return self.do_open(httplib.HTTPSConnection, req,\n\u001b[1;32m-> 1240\u001b[1;33m                 context=self._context)\n\u001b[0m\u001b[0;32m   1241\u001b[0m \u001b[1;33m\u001b[0m\u001b[0m\n\u001b[0;32m   1242\u001b[0m         \u001b[0mhttps_request\u001b[0m \u001b[1;33m=\u001b[0m \u001b[0mAbstractHTTPHandler\u001b[0m\u001b[1;33m.\u001b[0m\u001b[0mdo_request_\u001b[0m\u001b[1;33m\u001b[0m\u001b[0m\n",
      "\u001b[1;32mC:\\Anaconda\\lib\\urllib2.pyc\u001b[0m in \u001b[0;36mdo_open\u001b[1;34m(self, http_class, req, **http_conn_args)\u001b[0m\n\u001b[0;32m   1195\u001b[0m         \u001b[1;32mexcept\u001b[0m \u001b[0msocket\u001b[0m\u001b[1;33m.\u001b[0m\u001b[0merror\u001b[0m\u001b[1;33m,\u001b[0m \u001b[0merr\u001b[0m\u001b[1;33m:\u001b[0m \u001b[1;31m# XXX what error?\u001b[0m\u001b[1;33m\u001b[0m\u001b[0m\n\u001b[0;32m   1196\u001b[0m             \u001b[0mh\u001b[0m\u001b[1;33m.\u001b[0m\u001b[0mclose\u001b[0m\u001b[1;33m(\u001b[0m\u001b[1;33m)\u001b[0m\u001b[1;33m\u001b[0m\u001b[0m\n\u001b[1;32m-> 1197\u001b[1;33m             \u001b[1;32mraise\u001b[0m \u001b[0mURLError\u001b[0m\u001b[1;33m(\u001b[0m\u001b[0merr\u001b[0m\u001b[1;33m)\u001b[0m\u001b[1;33m\u001b[0m\u001b[0m\n\u001b[0m\u001b[0;32m   1198\u001b[0m         \u001b[1;32melse\u001b[0m\u001b[1;33m:\u001b[0m\u001b[1;33m\u001b[0m\u001b[0m\n\u001b[0;32m   1199\u001b[0m             \u001b[1;32mtry\u001b[0m\u001b[1;33m:\u001b[0m\u001b[1;33m\u001b[0m\u001b[0m\n",
      "\u001b[1;31mURLError\u001b[0m: <urlopen error EOF occurred in violation of protocol (_ssl.c:590)>"
     ]
    }
   ],
   "source": [
    "url = 'https://www.cehq.gouv.qc.ca/depot/historique_donnees/fichier/021407_Q.txt'\n",
    "\n",
    "site = urllib2.urlopen(url)"
   ]
  },
  {
   "cell_type": "code",
   "execution_count": 3,
   "metadata": {
    "collapsed": true
   },
   "outputs": [],
   "source": [
    "#from IPython.display import display\n",
    "\n",
    "# À tester"
   ]
  },
  {
   "cell_type": "code",
   "execution_count": 5,
   "metadata": {
    "collapsed": false,
    "scrolled": true
   },
   "outputs": [],
   "source": [
    "#df=pd.read_table(\"eaux_volees.txt\", skiprows=20, sep=r\"\\s+\",\n",
    "               #names=['station', 'date', 'debit', 'remarque'], engine='python', skip_blank_lines=True)\n",
    "#df=pd.read_table(\"eaux_volees.txt\", skiprows=20, index_col=1,\n",
    "#               names=['station', 'date', 'debit', 'remarque'], skip_blank_lines=True,\n",
    "# skipinitialspace=False, delim_whitespace=True)\n",
    "\n",
    "df=pd.read_csv('tonnerre.txt', skiprows=20, sep=r\"\\s+\",\n",
    "               names=['station', 'date', 'debit', 'remarque'], engine='python', index_col=1)\n",
    "\n",
    "#df=pd.read_csv(\"sainte_anne.txt\", skiprows=20, sep=r\"\\s+\",\n",
    " #              names=['station', 'date', 'debit', 'remarque'], engine='python', index_col=1)\n",
    "#df_sliced=df[50:100]\n",
    "#df_sliced.head(50)"
   ]
  },
  {
   "cell_type": "markdown",
   "metadata": {},
   "source": [
    "- Le fichier entrant doit être un tab separated value (tab)."
   ]
  },
  {
   "cell_type": "code",
   "execution_count": 6,
   "metadata": {
    "collapsed": false
   },
   "outputs": [
    {
     "data": {
      "text/plain": [
       "pandas.core.index.Index"
      ]
     },
     "execution_count": 6,
     "metadata": {},
     "output_type": "execute_result"
    }
   ],
   "source": [
    "#df['mon']=df.index.month\n",
    "type(df.index)"
   ]
  },
  {
   "cell_type": "code",
   "execution_count": 7,
   "metadata": {
    "collapsed": false
   },
   "outputs": [],
   "source": [
    "#df['date']=df.date.astype(str)"
   ]
  },
  {
   "cell_type": "code",
   "execution_count": 8,
   "metadata": {
    "collapsed": false
   },
   "outputs": [],
   "source": [
    "#df['date']=pd.to_datetime(df['date'], format='%Y/%m/%d')\n",
    "df.index=pd.to_datetime(df.index)"
   ]
  },
  {
   "cell_type": "code",
   "execution_count": 9,
   "metadata": {
    "collapsed": false
   },
   "outputs": [
    {
     "data": {
      "text/plain": [
       "station       int64\n",
       "debit       float64\n",
       "remarque     object\n",
       "dtype: object"
      ]
     },
     "execution_count": 9,
     "metadata": {},
     "output_type": "execute_result"
    }
   ],
   "source": [
    "df.dtypes"
   ]
  },
  {
   "cell_type": "markdown",
   "metadata": {},
   "source": [
    "The shape of the object is:"
   ]
  },
  {
   "cell_type": "code",
   "execution_count": 10,
   "metadata": {
    "collapsed": false,
    "scrolled": true
   },
   "outputs": [
    {
     "data": {
      "text/html": [
       "<div style=\"max-height:1000px;max-width:1500px;overflow:auto;\">\n",
       "<table border=\"1\" class=\"dataframe\">\n",
       "  <thead>\n",
       "    <tr style=\"text-align: right;\">\n",
       "      <th></th>\n",
       "      <th>station</th>\n",
       "      <th>debit</th>\n",
       "    </tr>\n",
       "  </thead>\n",
       "  <tbody>\n",
       "    <tr>\n",
       "      <th>count</th>\n",
       "      <td>  3368</td>\n",
       "      <td> 3149.000000</td>\n",
       "    </tr>\n",
       "    <tr>\n",
       "      <th>mean</th>\n",
       "      <td> 73303</td>\n",
       "      <td>   17.521458</td>\n",
       "    </tr>\n",
       "    <tr>\n",
       "      <th>std</th>\n",
       "      <td>     0</td>\n",
       "      <td>   21.655752</td>\n",
       "    </tr>\n",
       "    <tr>\n",
       "      <th>min</th>\n",
       "      <td> 73303</td>\n",
       "      <td>    0.988000</td>\n",
       "    </tr>\n",
       "    <tr>\n",
       "      <th>25%</th>\n",
       "      <td> 73303</td>\n",
       "      <td>    3.080000</td>\n",
       "    </tr>\n",
       "    <tr>\n",
       "      <th>50%</th>\n",
       "      <td> 73303</td>\n",
       "      <td>    8.850000</td>\n",
       "    </tr>\n",
       "    <tr>\n",
       "      <th>75%</th>\n",
       "      <td> 73303</td>\n",
       "      <td>   22.100000</td>\n",
       "    </tr>\n",
       "    <tr>\n",
       "      <th>max</th>\n",
       "      <td> 73303</td>\n",
       "      <td>  160.000000</td>\n",
       "    </tr>\n",
       "  </tbody>\n",
       "</table>\n",
       "</div>"
      ],
      "text/plain": [
       "       station        debit\n",
       "count     3368  3149.000000\n",
       "mean     73303    17.521458\n",
       "std          0    21.655752\n",
       "min      73303     0.988000\n",
       "25%      73303     3.080000\n",
       "50%      73303     8.850000\n",
       "75%      73303    22.100000\n",
       "max      73303   160.000000"
      ]
     },
     "execution_count": 10,
     "metadata": {},
     "output_type": "execute_result"
    }
   ],
   "source": [
    "df.describe()"
   ]
  },
  {
   "cell_type": "code",
   "execution_count": 11,
   "metadata": {
    "collapsed": false,
    "scrolled": false
   },
   "outputs": [],
   "source": [
    "#df=df.dropna()\n",
    "#df=df[~df.isnull()]\n",
    "#f_sliced=df[50:100]\n",
    "#df_sliced.head(50)"
   ]
  },
  {
   "cell_type": "code",
   "execution_count": 12,
   "metadata": {
    "collapsed": false,
    "scrolled": true
   },
   "outputs": [
    {
     "name": "stdout",
     "output_type": "stream",
     "text": [
      "17.5214579232 17.5214579232 8.85\n"
     ]
    },
    {
     "data": {
      "image/png": "[encoded data removed]",
      "text/plain": [
       "<matplotlib.figure.Figure at 0x18833cf8>"
      ]
     },
     "metadata": {},
     "output_type": "display_data"
    }
   ],
   "source": [
    "sns.set_context(\"notebook\")\n",
    "meanrat=df.debit.mean()\n",
    "#you can get means and medians in different ways\n",
    "print meanrat, np.mean(df.debit), df.debit.median()\n",
    "with sns.axes_style(\"whitegrid\"):\n",
    "    df.debit.hist(bins=30, alpha=0.4);\n",
    "    plt.axvline(meanrat, 0, 0.75, color='r', label='Mean')\n",
    "    plt.xlabel(\"Debit journalier moyen\")\n",
    "    plt.ylabel(\"Counts\")\n",
    "    plt.title(\"debit Histogram\")\n",
    "    plt.legend()\n",
    "    #sns.despine()"
   ]
  },
  {
   "cell_type": "markdown",
   "metadata": {},
   "source": [
    "Il est intéressant de remarquer que les calculs se font uniquement sur les valeurs Integer automatiquement sans renvoyer de message d'erreur."
   ]
  },
  {
   "cell_type": "code",
   "execution_count": 13,
   "metadata": {
    "collapsed": false
   },
   "outputs": [
    {
     "data": {
      "text/html": [
       "<div style=\"max-height:1000px;max-width:1500px;overflow:auto;\">\n",
       "<table border=\"1\" class=\"dataframe\">\n",
       "  <thead>\n",
       "    <tr style=\"text-align: right;\">\n",
       "      <th></th>\n",
       "      <th>station</th>\n",
       "      <th>debit</th>\n",
       "      <th>remarque</th>\n",
       "      <th>year</th>\n",
       "      <th>month</th>\n",
       "      <th>day</th>\n",
       "    </tr>\n",
       "  </thead>\n",
       "  <tbody>\n",
       "    <tr>\n",
       "      <th>1984-08-29</th>\n",
       "      <td> 73303</td>\n",
       "      <td> 2.72</td>\n",
       "      <td> MC</td>\n",
       "      <td> 1984</td>\n",
       "      <td> 8</td>\n",
       "      <td> 29</td>\n",
       "    </tr>\n",
       "    <tr>\n",
       "      <th>1984-08-30</th>\n",
       "      <td> 73303</td>\n",
       "      <td> 2.67</td>\n",
       "      <td> MC</td>\n",
       "      <td> 1984</td>\n",
       "      <td> 8</td>\n",
       "      <td> 30</td>\n",
       "    </tr>\n",
       "    <tr>\n",
       "      <th>1984-08-31</th>\n",
       "      <td> 73303</td>\n",
       "      <td> 2.73</td>\n",
       "      <td> MC</td>\n",
       "      <td> 1984</td>\n",
       "      <td> 8</td>\n",
       "      <td> 31</td>\n",
       "    </tr>\n",
       "    <tr>\n",
       "      <th>1984-09-01</th>\n",
       "      <td> 73303</td>\n",
       "      <td> 2.93</td>\n",
       "      <td> MC</td>\n",
       "      <td> 1984</td>\n",
       "      <td> 9</td>\n",
       "      <td>  1</td>\n",
       "    </tr>\n",
       "    <tr>\n",
       "      <th>1984-09-02</th>\n",
       "      <td> 73303</td>\n",
       "      <td> 3.20</td>\n",
       "      <td> MC</td>\n",
       "      <td> 1984</td>\n",
       "      <td> 9</td>\n",
       "      <td>  2</td>\n",
       "    </tr>\n",
       "  </tbody>\n",
       "</table>\n",
       "</div>"
      ],
      "text/plain": [
       "            station  debit remarque  year  month  day\n",
       "1984-08-29    73303   2.72       MC  1984      8   29\n",
       "1984-08-30    73303   2.67       MC  1984      8   30\n",
       "1984-08-31    73303   2.73       MC  1984      8   31\n",
       "1984-09-01    73303   2.93       MC  1984      9    1\n",
       "1984-09-02    73303   3.20       MC  1984      9    2"
      ]
     },
     "execution_count": 13,
     "metadata": {},
     "output_type": "execute_result"
    }
   ],
   "source": [
    "#grouped_data=df.groupby(lambda x: df['date'][x].year)\n",
    "df['year']=df.index.year\n",
    "df['month']=df.index.month\n",
    "df['day']=df.index.day\n",
    "df.head()"
   ]
  },
  {
   "cell_type": "markdown",
   "metadata": {},
   "source": [
    "#### Détermination de l'occurence du débit maximal annuel\n",
    "    - Ceci permet d'obtenir les débits maximaux\n",
    "    - Il est également possible d'établir le moment de l'enregistrement max. et \n",
    "      et d'évaluer si cette valeur de débit est représentative de l'année\n"
   ]
  },
  {
   "cell_type": "code",
   "execution_count": 80,
   "metadata": {
    "collapsed": false,
    "scrolled": true
   },
   "outputs": [
    {
     "data": {
      "text/html": [
       "<div style=\"max-height:1000px;max-width:1500px;overflow:auto;\">\n",
       "<table border=\"1\" class=\"dataframe\">\n",
       "  <thead>\n",
       "    <tr style=\"text-align: right;\">\n",
       "      <th></th>\n",
       "      <th>debit</th>\n",
       "      <th>date</th>\n",
       "    </tr>\n",
       "    <tr>\n",
       "      <th>year</th>\n",
       "      <th></th>\n",
       "      <th></th>\n",
       "    </tr>\n",
       "  </thead>\n",
       "  <tbody>\n",
       "    <tr>\n",
       "      <th>1984</th>\n",
       "      <td>  27.6</td>\n",
       "      <td>1984-09-28</td>\n",
       "    </tr>\n",
       "    <tr>\n",
       "      <th>1985</th>\n",
       "      <td>  74.5</td>\n",
       "      <td>1985-06-03</td>\n",
       "    </tr>\n",
       "    <tr>\n",
       "      <th>1986</th>\n",
       "      <td> 160.0</td>\n",
       "      <td>1986-05-03</td>\n",
       "    </tr>\n",
       "    <tr>\n",
       "      <th>1987</th>\n",
       "      <td> 130.0</td>\n",
       "      <td>1987-10-30</td>\n",
       "    </tr>\n",
       "    <tr>\n",
       "      <th>1988</th>\n",
       "      <td> 115.0</td>\n",
       "      <td>1988-05-06</td>\n",
       "    </tr>\n",
       "    <tr>\n",
       "      <th>1989</th>\n",
       "      <td> 138.0</td>\n",
       "      <td>1989-05-08</td>\n",
       "    </tr>\n",
       "    <tr>\n",
       "      <th>1990</th>\n",
       "      <td> 135.0</td>\n",
       "      <td>1990-05-12</td>\n",
       "    </tr>\n",
       "    <tr>\n",
       "      <th>1991</th>\n",
       "      <td> 112.0</td>\n",
       "      <td>1991-05-13</td>\n",
       "    </tr>\n",
       "    <tr>\n",
       "      <th>1992</th>\n",
       "      <td> 121.0</td>\n",
       "      <td>1992-05-14</td>\n",
       "    </tr>\n",
       "    <tr>\n",
       "      <th>1993</th>\n",
       "      <td> 118.0</td>\n",
       "      <td>1993-10-19</td>\n",
       "    </tr>\n",
       "  </tbody>\n",
       "</table>\n",
       "</div>"
      ],
      "text/plain": [
       "      debit       date\n",
       "year                  \n",
       "1984   27.6 1984-09-28\n",
       "1985   74.5 1985-06-03\n",
       "1986  160.0 1986-05-03\n",
       "1987  130.0 1987-10-30\n",
       "1988  115.0 1988-05-06\n",
       "1989  138.0 1989-05-08\n",
       "1990  135.0 1990-05-12\n",
       "1991  112.0 1991-05-13\n",
       "1992  121.0 1992-05-14\n",
       "1993  118.0 1993-10-19"
      ]
     },
     "execution_count": 80,
     "metadata": {},
     "output_type": "execute_result"
    }
   ],
   "source": [
    "idx = df.groupby('year')['debit'].idxmax()\n",
    "df_max_date= df.loc[idx,['debit']]\n",
    "df_max_date['date']=df_max_date.index\n",
    "df_max_date['year']=df_max_date.index.year\n",
    "df_max_date=df_max_date.set_index('year')\n",
    "df_max_date.head(50)"
   ]
  },
  {
   "cell_type": "code",
   "execution_count": 81,
   "metadata": {
    "collapsed": false
   },
   "outputs": [
    {
     "data": {
      "text/plain": [
       "debit           float64\n",
       "date     datetime64[ns]\n",
       "dtype: object"
      ]
     },
     "execution_count": 81,
     "metadata": {},
     "output_type": "execute_result"
    }
   ],
   "source": [
    "df_max_date.dtypes"
   ]
  },
  {
   "cell_type": "code",
   "execution_count": 82,
   "metadata": {
    "collapsed": false
   },
   "outputs": [
    {
     "data": {
      "text/html": [
       "<div style=\"max-height:1000px;max-width:1500px;overflow:auto;\">\n",
       "<table border=\"1\" class=\"dataframe\">\n",
       "  <thead>\n",
       "    <tr style=\"text-align: right;\">\n",
       "      <th></th>\n",
       "      <th>station</th>\n",
       "      <th>debit</th>\n",
       "      <th>remarque</th>\n",
       "      <th>year</th>\n",
       "      <th>month</th>\n",
       "      <th>day</th>\n",
       "    </tr>\n",
       "  </thead>\n",
       "  <tbody>\n",
       "    <tr>\n",
       "      <th>1984-08-29</th>\n",
       "      <td> 73303</td>\n",
       "      <td> 2.72</td>\n",
       "      <td> MC</td>\n",
       "      <td> 1984</td>\n",
       "      <td> 8</td>\n",
       "      <td> 29</td>\n",
       "    </tr>\n",
       "    <tr>\n",
       "      <th>1984-08-30</th>\n",
       "      <td> 73303</td>\n",
       "      <td> 2.67</td>\n",
       "      <td> MC</td>\n",
       "      <td> 1984</td>\n",
       "      <td> 8</td>\n",
       "      <td> 30</td>\n",
       "    </tr>\n",
       "    <tr>\n",
       "      <th>1984-08-31</th>\n",
       "      <td> 73303</td>\n",
       "      <td> 2.73</td>\n",
       "      <td> MC</td>\n",
       "      <td> 1984</td>\n",
       "      <td> 8</td>\n",
       "      <td> 31</td>\n",
       "    </tr>\n",
       "    <tr>\n",
       "      <th>1984-09-01</th>\n",
       "      <td> 73303</td>\n",
       "      <td> 2.93</td>\n",
       "      <td> MC</td>\n",
       "      <td> 1984</td>\n",
       "      <td> 9</td>\n",
       "      <td>  1</td>\n",
       "    </tr>\n",
       "    <tr>\n",
       "      <th>1984-09-02</th>\n",
       "      <td> 73303</td>\n",
       "      <td> 3.20</td>\n",
       "      <td> MC</td>\n",
       "      <td> 1984</td>\n",
       "      <td> 9</td>\n",
       "      <td>  2</td>\n",
       "    </tr>\n",
       "  </tbody>\n",
       "</table>\n",
       "</div>"
      ],
      "text/plain": [
       "            station  debit remarque  year  month  day\n",
       "1984-08-29    73303   2.72       MC  1984      8   29\n",
       "1984-08-30    73303   2.67       MC  1984      8   30\n",
       "1984-08-31    73303   2.73       MC  1984      8   31\n",
       "1984-09-01    73303   2.93       MC  1984      9    1\n",
       "1984-09-02    73303   3.20       MC  1984      9    2"
      ]
     },
     "execution_count": 82,
     "metadata": {},
     "output_type": "execute_result"
    }
   ],
   "source": [
    "\n",
    "#df[\"debit\"][(df[\"month\"] > 3) & (df[\"month\"] <7)]\n",
    "df_spring=df[(df['month'] > 3) & (df['month'] <7 )]\n",
    "df_fall=df[(df['month'] > 7) & (df['month'] <=11 )]\n",
    "df_fall.head()"
   ]
  },
  {
   "cell_type": "code",
   "execution_count": 83,
   "metadata": {
    "collapsed": false
   },
   "outputs": [
    {
     "data": {
      "text/html": [
       "<div style=\"max-height:1000px;max-width:1500px;overflow:auto;\">\n",
       "<table border=\"1\" class=\"dataframe\">\n",
       "  <thead>\n",
       "    <tr style=\"text-align: right;\">\n",
       "      <th></th>\n",
       "      <th>printemps</th>\n",
       "      <th>automne</th>\n",
       "    </tr>\n",
       "    <tr>\n",
       "      <th>year</th>\n",
       "      <th></th>\n",
       "      <th></th>\n",
       "    </tr>\n",
       "  </thead>\n",
       "  <tbody>\n",
       "    <tr>\n",
       "      <th>1985</th>\n",
       "      <td> 71</td>\n",
       "      <td> 120</td>\n",
       "    </tr>\n",
       "    <tr>\n",
       "      <th>1986</th>\n",
       "      <td> 91</td>\n",
       "      <td>  80</td>\n",
       "    </tr>\n",
       "    <tr>\n",
       "      <th>1987</th>\n",
       "      <td> 61</td>\n",
       "      <td> 122</td>\n",
       "    </tr>\n",
       "    <tr>\n",
       "      <th>1988</th>\n",
       "      <td> 91</td>\n",
       "      <td> 122</td>\n",
       "    </tr>\n",
       "    <tr>\n",
       "      <th>1989</th>\n",
       "      <td> 91</td>\n",
       "      <td> 122</td>\n",
       "    </tr>\n",
       "    <tr>\n",
       "      <th>1990</th>\n",
       "      <td> 91</td>\n",
       "      <td> 122</td>\n",
       "    </tr>\n",
       "    <tr>\n",
       "      <th>1991</th>\n",
       "      <td> 91</td>\n",
       "      <td> 122</td>\n",
       "    </tr>\n",
       "    <tr>\n",
       "      <th>1992</th>\n",
       "      <td> 91</td>\n",
       "      <td> 122</td>\n",
       "    </tr>\n",
       "    <tr>\n",
       "      <th>1993</th>\n",
       "      <td> 91</td>\n",
       "      <td> 109</td>\n",
       "    </tr>\n",
       "  </tbody>\n",
       "</table>\n",
       "</div>"
      ],
      "text/plain": [
       "      printemps  automne\n",
       "year                    \n",
       "1985         71      120\n",
       "1986         91       80\n",
       "1987         61      122\n",
       "1988         91      122\n",
       "1989         91      122\n",
       "1990         91      122\n",
       "1991         91      122\n",
       "1992         91      122\n",
       "1993         91      109"
      ]
     },
     "execution_count": 83,
     "metadata": {},
     "output_type": "execute_result"
    }
   ],
   "source": [
    "\n",
    "\n",
    "spring_grouped_data=df_spring['debit'].groupby(df['year'])\n",
    "fall_grouped_data=df_fall['debit'].groupby(df['year'])\n",
    "debit_spring=spring_grouped_data.count()\n",
    "debit_fall=fall_grouped_data.count()\n",
    "df_test=pd.concat([debit_spring, debit_fall], axis=1, join_axes=[debit_spring.index])\n",
    "df_test.columns=['printemps', 'automne']\n",
    "df_test.head(50)"
   ]
  },
  {
   "cell_type": "code",
   "execution_count": 67,
   "metadata": {
    "collapsed": false
   },
   "outputs": [
    {
     "data": {
      "text/plain": [
       "printemps    int64\n",
       "automne      int64\n",
       "dtype: object"
      ]
     },
     "execution_count": 67,
     "metadata": {},
     "output_type": "execute_result"
    }
   ],
   "source": [
    "df_test.dtypes"
   ]
  },
  {
   "cell_type": "code",
   "execution_count": 84,
   "metadata": {
    "collapsed": false
   },
   "outputs": [
    {
     "data": {
      "text/plain": [
       "printemps    float64\n",
       "automne      float64\n",
       "dtype: object"
      ]
     },
     "execution_count": 84,
     "metadata": {},
     "output_type": "execute_result"
    }
   ],
   "source": [
    "df_test['printemps']=df_test.printemps.astype(float)\n",
    "df_test['automne']=df_test.automne.astype(float)\n",
    "df_test.dtypes\n",
    "#df_test.head()\n",
    "#df_test1=pd.concat([df_test, df_max\n",
    "#df['date']=df.date.astype(str)\n",
    "\n"
   ]
  },
  {
   "cell_type": "code",
   "execution_count": 85,
   "metadata": {
    "collapsed": false,
    "scrolled": true
   },
   "outputs": [
    {
     "data": {
      "text/html": [
       "<div style=\"max-height:1000px;max-width:1500px;overflow:auto;\">\n",
       "<table border=\"1\" class=\"dataframe\">\n",
       "  <thead>\n",
       "    <tr style=\"text-align: right;\">\n",
       "      <th></th>\n",
       "      <th>printemps</th>\n",
       "      <th>automne</th>\n",
       "      <th>debit</th>\n",
       "      <th>date</th>\n",
       "    </tr>\n",
       "    <tr>\n",
       "      <th>year</th>\n",
       "      <th></th>\n",
       "      <th></th>\n",
       "      <th></th>\n",
       "      <th></th>\n",
       "    </tr>\n",
       "  </thead>\n",
       "  <tbody>\n",
       "    <tr>\n",
       "      <th>1985</th>\n",
       "      <td> 71</td>\n",
       "      <td> 120</td>\n",
       "      <td>  74.5</td>\n",
       "      <td>1985-06-03</td>\n",
       "    </tr>\n",
       "    <tr>\n",
       "      <th>1986</th>\n",
       "      <td> 91</td>\n",
       "      <td>  80</td>\n",
       "      <td> 160.0</td>\n",
       "      <td>1986-05-03</td>\n",
       "    </tr>\n",
       "    <tr>\n",
       "      <th>1987</th>\n",
       "      <td> 61</td>\n",
       "      <td> 122</td>\n",
       "      <td> 130.0</td>\n",
       "      <td>1987-10-30</td>\n",
       "    </tr>\n",
       "    <tr>\n",
       "      <th>1988</th>\n",
       "      <td> 91</td>\n",
       "      <td> 122</td>\n",
       "      <td> 115.0</td>\n",
       "      <td>1988-05-06</td>\n",
       "    </tr>\n",
       "    <tr>\n",
       "      <th>1989</th>\n",
       "      <td> 91</td>\n",
       "      <td> 122</td>\n",
       "      <td> 138.0</td>\n",
       "      <td>1989-05-08</td>\n",
       "    </tr>\n",
       "  </tbody>\n",
       "</table>\n",
       "</div>"
      ],
      "text/plain": [
       "      printemps  automne  debit       date\n",
       "year                                      \n",
       "1985         71      120   74.5 1985-06-03\n",
       "1986         91       80  160.0 1986-05-03\n",
       "1987         61      122  130.0 1987-10-30\n",
       "1988         91      122  115.0 1988-05-06\n",
       "1989         91      122  138.0 1989-05-08"
      ]
     },
     "execution_count": 85,
     "metadata": {},
     "output_type": "execute_result"
    }
   ],
   "source": [
    "df_test1=pd.concat([df_test, df_max_date], axis=1, join_axes=[df_test.index])\n",
    "#df_test1['printemps']=df_test1.printemps.astype(int)\n",
    "df_test1.head()"
   ]
  },
  {
   "cell_type": "code",
   "execution_count": 86,
   "metadata": {
    "collapsed": false
   },
   "outputs": [
    {
     "data": {
      "text/plain": [
       "122.61111111111111"
      ]
     },
     "execution_count": 86,
     "metadata": {},
     "output_type": "execute_result"
    }
   ],
   "source": [
    "#grouped_data=df['debit'].groupby(df['year'])\n",
    "#debit_max=grouped_data.max()\n",
    "#debit_max.head(75)\n",
    "df_test1['debit'].mean()"
   ]
  },
  {
   "cell_type": "code",
   "execution_count": 29,
   "metadata": {
    "collapsed": false
   },
   "outputs": [
    {
     "name": "stdout",
     "output_type": "stream",
     "text": [
      "113.11\n"
     ]
    }
   ],
   "source": [
    "df_max_date['debit'].mean()\n"
   ]
  },
  {
   "cell_type": "code",
   "execution_count": 61,
   "metadata": {
    "collapsed": false
   },
   "outputs": [
    {
     "data": {
      "text/html": [
       "<div style=\"max-height:1000px;max-width:1500px;overflow:auto;\">\n",
       "<table border=\"1\" class=\"dataframe\">\n",
       "  <thead>\n",
       "    <tr style=\"text-align: right;\">\n",
       "      <th></th>\n",
       "      <th>automne</th>\n",
       "      <th>printemps</th>\n",
       "      <th>debit_max</th>\n",
       "    </tr>\n",
       "    <tr>\n",
       "      <th>year</th>\n",
       "      <th></th>\n",
       "      <th></th>\n",
       "      <th></th>\n",
       "    </tr>\n",
       "  </thead>\n",
       "  <tbody>\n",
       "    <tr>\n",
       "      <th>1985</th>\n",
       "      <td> 71</td>\n",
       "      <td> 120</td>\n",
       "      <td>  74.5</td>\n",
       "    </tr>\n",
       "    <tr>\n",
       "      <th>1986</th>\n",
       "      <td> 91</td>\n",
       "      <td>  80</td>\n",
       "      <td> 160.0</td>\n",
       "    </tr>\n",
       "    <tr>\n",
       "      <th>1987</th>\n",
       "      <td> 61</td>\n",
       "      <td> 122</td>\n",
       "      <td> 130.0</td>\n",
       "    </tr>\n",
       "    <tr>\n",
       "      <th>1988</th>\n",
       "      <td> 91</td>\n",
       "      <td> 122</td>\n",
       "      <td> 115.0</td>\n",
       "    </tr>\n",
       "    <tr>\n",
       "      <th>1989</th>\n",
       "      <td> 91</td>\n",
       "      <td> 122</td>\n",
       "      <td> 138.0</td>\n",
       "    </tr>\n",
       "    <tr>\n",
       "      <th>1990</th>\n",
       "      <td> 91</td>\n",
       "      <td> 122</td>\n",
       "      <td> 135.0</td>\n",
       "    </tr>\n",
       "    <tr>\n",
       "      <th>1991</th>\n",
       "      <td> 91</td>\n",
       "      <td> 122</td>\n",
       "      <td> 112.0</td>\n",
       "    </tr>\n",
       "    <tr>\n",
       "      <th>1992</th>\n",
       "      <td> 91</td>\n",
       "      <td> 122</td>\n",
       "      <td> 121.0</td>\n",
       "    </tr>\n",
       "    <tr>\n",
       "      <th>1993</th>\n",
       "      <td> 91</td>\n",
       "      <td> 109</td>\n",
       "      <td> 118.0</td>\n",
       "    </tr>\n",
       "  </tbody>\n",
       "</table>\n",
       "</div>"
      ],
      "text/plain": [
       "      automne  printemps  debit_max\n",
       "year                               \n",
       "1985       71        120       74.5\n",
       "1986       91         80      160.0\n",
       "1987       61        122      130.0\n",
       "1988       91        122      115.0\n",
       "1989       91        122      138.0\n",
       "1990       91        122      135.0\n",
       "1991       91        122      112.0\n",
       "1992       91        122      121.0\n",
       "1993       91        109      118.0"
      ]
     },
     "execution_count": 61,
     "metadata": {},
     "output_type": "execute_result"
    }
   ],
   "source": [
    "\n",
    "df_conc=pd.concat([df_test, debit_max], axis=1, join_axes=[df_test.index])\n",
    "df_conc.columns=['automne', 'printemps','debit_max']\n",
    "df_conc.head(50)"
   ]
  },
  {
   "cell_type": "code",
   "execution_count": 32,
   "metadata": {
    "collapsed": false
   },
   "outputs": [],
   "source": [
    "mean=df_conc['debit_max'].mean()"
   ]
  },
  {
   "cell_type": "code",
   "execution_count": 33,
   "metadata": {
    "collapsed": false
   },
   "outputs": [
    {
     "name": "stdout",
     "output_type": "stream",
     "text": [
      "[ 110.22222222] [ 96.99997222] [ 134.22222222]\n"
     ]
    },
    {
     "data": {
      "text/plain": [
       "<matplotlib.legend.Legend at 0x18ab25c0>"
      ]
     },
     "execution_count": 33,
     "metadata": {},
     "output_type": "execute_result"
    },
    {
     "data": {
      "image/png": "[encoded data removed]",
      "text/plain": [
       "<matplotlib.figure.Figure at 0x1918c4a8>"
      ]
     },
     "metadata": {},
     "output_type": "display_data"
    }
   ],
   "source": [
    "M_samples=100000\n",
    "N_points = df_conc.shape[0]\n",
    "bs_np = np.random.choice(df_conc.debit_max, size=(M_samples, N_points))\n",
    "sd_mean=np.mean(bs_np, axis=1)\n",
    "sd_std=np.std(bs_np, axis=1)\n",
    "conf_5=np.percentile(sd_mean, [5])\n",
    "conf_95=np.percentile(sd_mean, [95])\n",
    "conf_2=np.percentile(sd_mean,[0.05])\n",
    "\n",
    "print conf_5, conf_2, conf_95\n",
    "plt.hist(sd_mean, bins=30, normed=True, alpha=0.5,label=\"samples\");\n",
    "sns.kdeplot(sd_mean, label=\"inferred distribution\")\n",
    "plt.axvline(mean, 0, 1, color='r', label='Our Sample')\n",
    "plt.axvline(conf_5,0,1, color='b', label='5% confidence')\n",
    "plt.axvline(conf_95,0,1, color='b', label='95% confidence')\n",
    "plt.legend()"
   ]
  },
  {
   "cell_type": "code",
   "execution_count": null,
   "metadata": {
    "collapsed": false,
    "scrolled": true
   },
   "outputs": [],
   "source": [
    "df_conc['test_logique'] = 1\n",
    "df_conc.loc[(df_conc['automne'] > 50) & (df_conc['printemps'] >80) & (df_conc['debit_max']>conf_5[0]),\n",
    "                        'test_logique'] = 2\n",
    "df_conc.head(50)       "
   ]
  },
  {
   "cell_type": "markdown",
   "metadata": {},
   "source": [
    "#### Test logique :\n",
    "    - Si test logique =1 : Retirer l'année\n",
    "    - Si test logique =2 : À conserver"
   ]
  },
  {
   "cell_type": "code",
   "execution_count": null,
   "metadata": {
    "collapsed": false
   },
   "outputs": [],
   "source": [
    "df_f=df_conc[df_conc.test_logique==2]"
   ]
  },
  {
   "cell_type": "code",
   "execution_count": null,
   "metadata": {
    "collapsed": false
   },
   "outputs": [],
   "source": [
    "df_f1=df_f.drop('printemps', axis=1)"
   ]
  },
  {
   "cell_type": "code",
   "execution_count": null,
   "metadata": {
    "collapsed": false
   },
   "outputs": [],
   "source": [
    "df_f2=df_f1.drop('automne', axis=1)"
   ]
  },
  {
   "cell_type": "code",
   "execution_count": null,
   "metadata": {
    "collapsed": false
   },
   "outputs": [],
   "source": [
    "df_f3=df_f2.drop('test_logique', axis=1)\n",
    "df_f3.head(50)"
   ]
  },
  {
   "cell_type": "code",
   "execution_count": null,
   "metadata": {
    "collapsed": false
   },
   "outputs": [],
   "source": [
    "open(test, 'w')\n"
   ]
  },
  {
   "cell_type": "code",
   "execution_count": null,
   "metadata": {
    "collapsed": true
   },
   "outputs": [],
   "source": [
    "np.savetxt(tonnerre_traite_txt)"
   ]
  }
 ],
 "metadata": {
  "kernelspec": {
   "display_name": "Python 2",
   "language": "python",
   "name": "python2"
  },
  "language_info": {
   "codemirror_mode": {
    "name": "ipython",
    "version": 2
   },
   "file_extension": ".py",
   "mimetype": "text/x-python",
   "name": "python",
   "nbconvert_exporter": "python",
   "pygments_lexer": "ipython2",
   "version": "2.7.11"
  }
 },
 "nbformat": 4,
 "nbformat_minor": 0
}
